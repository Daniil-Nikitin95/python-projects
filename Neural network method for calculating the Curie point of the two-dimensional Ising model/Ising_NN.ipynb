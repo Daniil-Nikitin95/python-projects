{
  "nbformat": 4,
  "nbformat_minor": 0,
  "metadata": {
    "kernelspec": {
      "display_name": "Python 3",
      "language": "python",
      "name": "python3"
    },
    "language_info": {
      "codemirror_mode": {
        "name": "ipython",
        "version": 3
      },
      "file_extension": ".py",
      "mimetype": "text/x-python",
      "name": "python",
      "nbconvert_exporter": "python",
      "pygments_lexer": "ipython3",
      "version": "3.7.6"
    },
    "colab": {
      "provenance": [],
      "collapsed_sections": []
    }
  },
  "cells": [
    {
      "cell_type": "code",
      "metadata": {
        "scrolled": true,
        "id": "LrGubCYmjrBZ"
      },
      "source": [
        "%matplotlib inline\n",
        "\n",
        "import numpy as np\n",
        "from scipy.signal import convolve2d\n",
        "from scipy.optimize import curve_fit\n",
        "import matplotlib.pyplot as plt\n",
        "from sklearn.model_selection import train_test_split\n",
        "import glob\n",
        "import keras\n",
        "from keras.models import Sequential\n",
        "from keras.layers import Dense, Dropout, Flatten\n",
        "from keras.layers import Conv2D, MaxPooling2D\n",
        "from IPython.display import Math\n",
        "\n",
        "np.random.seed(42)"
      ],
      "execution_count": null,
      "outputs": []
    },
    {
      "cell_type": "code",
      "metadata": {
        "id": "eO4fk0FhfBrG"
      },
      "source": [
        "from google.colab import drive\n",
        "drive.mount('/content/gdrive', force_remount=True)"
      ],
      "execution_count": null,
      "outputs": []
    },
    {
      "cell_type": "code",
      "metadata": {
        "id": "4MHxkJzUn1h-"
      },
      "source": [
        "from google.colab import files"
      ],
      "execution_count": null,
      "outputs": []
    },
    {
      "cell_type": "code",
      "metadata": {
        "id": "Se5T-kXUn-uT"
      },
      "source": [
        "uploaded = files.upload()"
      ],
      "execution_count": null,
      "outputs": []
    },
    {
      "cell_type": "code",
      "metadata": {
        "id": "tXP1IOCnox8q"
      },
      "source": [
        "uploaded = files.upload()"
      ],
      "execution_count": null,
      "outputs": []
    },
    {
      "cell_type": "code",
      "metadata": {
        "id": "OT2Cr2p7jrBe"
      },
      "source": [
        "# Точное значение критической Т для 2D модели Изинга с 4 соседями\n",
        "\n",
        "Tc = 2.0/np.log(1.+2**0.5)\n",
        "\n"
      ],
      "execution_count": null,
      "outputs": []
    },
    {
      "cell_type": "code",
      "metadata": {
        "id": "RwFYg3-ljrBk"
      },
      "source": [
        "def get_lattices(T):\n",
        "  lattices = []\n",
        "  with open(\"/content/gdrive/MyDrive/data/\" + str(T) + \".txt\", \"r\") as ins: \n",
        "      lattice = []\n",
        "      for line in ins:\n",
        "        lattice = [int(x) for x in line.split()] # считайте данные и запишите построчно lattice\n",
        "        lattice = np.reshape(lattice, (10, 10))    #размер Вашей системы спинов\n",
        "        lattices.append(lattice)\n",
        "  return round(T,4), lattices\n",
        "\n",
        "Ts = np.arange(5.00001, 0.100001, -0.1)\n",
        "d_data = {}\n",
        "for T in Ts:\n",
        "  T1 = round(T, 5)\n",
        "  print (T)\n",
        "  print (T1)\n",
        "  T1, lattices = get_lattices(T1)\n",
        "  d_data[T1] = lattices\n",
        "  print (d_data[T1])\n"
      ],
      "execution_count": null,
      "outputs": []
    },
    {
      "cell_type": "code",
      "metadata": {
        "id": "uictc6gjjrBp"
      },
      "source": [
        "lattices2 = []\n",
        "\n",
        "lt = [0 for c in range(50)] #Temp\n",
        "lm = [0 for c in range(50)] #Magn\n",
        "with open(\"/content/gdrive/MyDrive/output.txt\", 'r') as ins: # файл содежит T E E_err M M_err\n",
        "    lattice2 = []\n",
        "    for line2 in ins:\n",
        "        lattice2 = [(k) for k in line2.split()] # считайте данные и запишите построчно в lattice2\n",
        "        lattice2 = np.resize(lattice2, (5,1,1))   # размер систем\n",
        "        lattices2.append(lattice2)\n",
        "#print(lattices2[1][3][0])\n",
        "\n",
        "for l in range(50):\n",
        "    for r in  range(0,1,3):\n",
        "       # print(lattices2[l][r][0])\n",
        "        lt[l]=float(lattices2[l][r][0])\n",
        "   # print(\"\\n\")\n",
        "print(lt)\n",
        "for l in range(50):\n",
        "    for r in  range(3,4,2):\n",
        "       # print(lattices2[l][r][0])\n",
        "        lm[l]=float(lattices2[l][r][0])\n",
        "        \n",
        "print(lm) "
      ],
      "execution_count": null,
      "outputs": []
    },
    {
      "cell_type": "code",
      "metadata": {
        "id": "0_-2dimBjrBr"
      },
      "source": [
        "# создаем вектора  для входных/выходных данных и вектор температур\n",
        "X_data = []\n",
        "y_data = []\n",
        "T_data = []\n",
        "for T,configs in d_data.items():\n",
        "    print(T)\n",
        "    print(configs)\n",
        "    for config in configs:\n",
        "        # переворачиваем спины, чтобы удвоить датасет сохраняя E одинаковым\n",
        "        # и это также необходимо, чтобы ML алгоритм  не переобучался\n",
        "        # т.е. не начал предпочитать один знак намагничености системы другому, \n",
        "        # т.к. например все спины вверх и все вниз - это равновероятные конфигурации\n",
        "        # с одинаковой Е,\n",
        "        # а также зеркалируем решетку по горизонтали/вертикали, чтобы получить независимые данные.\n",
        "        # Расставляем метки  (0 - низкотемпературная фаза, 1 - высокотемпературная фаза),\n",
        "\n",
        "        label = 0 #Установите метку\n",
        "        if T > Tc:\n",
        "            label = 1 #Установите метку\n",
        "            \n",
        "        X_data.append(config)\n",
        "        X_data.append(np.flip(config,0))\n",
        "        X_data.append(np.flip(config,1))\n",
        "        X_data.append(-config)\n",
        "        X_data.append(-np.flip(config,0))\n",
        "        X_data.append(-np.flip(config,1))\n",
        "        \n",
        "        for _ in range(6):# запишите число в range(??), чтобы каждому элементу X_data был сопоставлен T_data и y_data\n",
        "            T_data.append(T) #Записать значение Т\n",
        "            y_data.append(label) #Записать метку\n",
        "\n",
        "\n",
        "X_data = np.array(X_data)\n",
        "y_data = np.array(y_data)\n",
        "T_data = np.array(T_data)\n",
        "\n",
        "# переходим от -1,1 к 0,1\n",
        "X_data = 0.5*(X_data+1)\n",
        "\n",
        "# Таким образом, наши тренировочные и тестовые наборы данных будут состоять из \n",
        "# пиксельных \"изображений\" решеток состоящих из 0 и 1 для каждого спина.\n",
        "# Затем определяем находится система при низкой (T<Tc) или высокой (T>Tc) температуре.\n",
        "# Это позволит CNN изучить концепцию температуры/намагниченности/ и т.п.\n",
        "# И на основе этого делать классификацию"
      ],
      "execution_count": null,
      "outputs": []
    },
    {
      "cell_type": "code",
      "metadata": {
        "id": "42zA2OZcjrBz"
      },
      "source": [
        "# Разделим данные\n",
        "# Обучим только на очень высокотемпературных или  низкотемпературных конфигурациях, далеко от Tc.\n",
        "# Следовательно, CNN попытается узнать критическую температуру из состояний, \n",
        "# которые находятся глубоко внутри любой из фаз.\n",
        "\n",
        "X_train, X_test, y_train, y_test, T_train, T_test = train_test_split(X_data, y_data, T_data, test_size=0.3, random_state=42)\n",
        "\n",
        "hl = np.abs(T_train-Tc)>1.5 # hl - условие определения high/low temp регионов для обучения\n",
        "print(hl)\n",
        "X_train = X_train[hl] # в X_train пересохранить только те, которые отвечают условию hl\n",
        "y_train = y_train[hl] # в y_train пересохранить только те, которые отвечают условию hl \n",
        "T_train = T_train[hl] # в y_train пересохранить только те, которые отвечают условию hl\n",
        "print (\"Training samples: \", X_train.shape[0])\n",
        "print (\"Testing samples: \", X_test.shape[0])"
      ],
      "execution_count": null,
      "outputs": []
    },
    {
      "cell_type": "code",
      "metadata": {
        "id": "NAumMtMtjrB1"
      },
      "source": [
        "# Подготовим входные данные для CNN \n",
        "sys_rows, sys_cols = 10, 10 #размер Вашей системы\n",
        "X_train = X_train.reshape(X_train.shape[0], sys_rows, sys_cols, 1)\n",
        "X_test = X_test.reshape(X_test.shape[0], sys_rows, sys_cols, 1)\n",
        "input_shape = (sys_rows, sys_cols, 1)\n",
        "X_train = X_train.astype('float32')\n",
        "X_test = X_test.astype('float32')\n",
        "y_train = keras.utils.to_categorical(y_train, 2)\n",
        "y_test = keras.utils.to_categorical(y_test, 2)"
      ],
      "execution_count": null,
      "outputs": []
    },
    {
      "cell_type": "code",
      "metadata": {
        "scrolled": true,
        "id": "5HO1wzsHjrB2"
      },
      "source": [
        "# Создаем и обучаем модель\n",
        "model = Sequential()\n",
        "model.add(Conv2D(32, \n",
        "                 (3,3) #установите размер ядра 3х3\n",
        "                 , \n",
        "                 activation=\"relu\" #функция активации relu\n",
        "                 ,\n",
        "                 input_shape=input_shape))\n",
        "model.add(Conv2D(64, (3, 3), activation=\"relu\"))\n",
        "model.add(MaxPooling2D(pool_size=(2,2))) \n",
        "model.add(Dropout(0.2)) #0.2\n",
        "model.add(Flatten())\n",
        "model.add(Dense(128, activation=\"relu\"))\n",
        "model.add(Dropout(0.3)) #0.3\n",
        "model.add(Dense(16, activation=\"relu\"))\n",
        "model.add(Dropout(0.1)) #0.1\n",
        "model.add(Dense(2, activation=\"relu\"))\n",
        "\n",
        "model.summary()\n",
        "\n",
        "model.compile(loss='binary_crossentropy',\n",
        "              optimizer=\"adam\",\n",
        "              metrics=['accuracy'])\n",
        "\n",
        "history = model.fit(X_train, y_train,\n",
        "                    batch_size=100,\n",
        "                    epochs=6,\n",
        "                    verbose=1,\n",
        "                    shuffle=True,\n",
        "                    validation_data=(X_test, y_test))\n",
        "score = model.evaluate(X_test, y_test, verbose=0)\n",
        "print ('Test loss:', score[0])\n",
        "print ('Test accuracy:', score[1])"
      ],
      "execution_count": null,
      "outputs": []
    },
    {
      "cell_type": "code",
      "metadata": {
        "scrolled": true,
        "id": "0xNx0gltjrB3"
      },
      "source": [
        "score = model.evaluate(X_test, y_test, verbose=0)\n",
        "print ('Test loss:', score[0])\n",
        "print ('Test accuracy:', score[1])"
      ],
      "execution_count": null,
      "outputs": []
    },
    {
      "cell_type": "code",
      "metadata": {
        "id": "vd1G-osyjrB4"
      },
      "source": [
        "# прогноз\n",
        "pred = model.predict(X_test)\n",
        "pred = pred[:,1]\n",
        "y = y_test[:,1]\n",
        "\n",
        "high = y > 0.5\n",
        "low = y < 0.5"
      ],
      "execution_count": null,
      "outputs": []
    },
    {
      "cell_type": "code",
      "metadata": {
        "id": "KMrpswYejrB4"
      },
      "source": [
        "def get_t_and_avgpred(Ts,preds):\n",
        "#Для вектора температур и прогнозов мы возвращаем вектор уникальных температур \n",
        "#и их средний прогноз вместе со стандартной погрешностью\n",
        "    new_Ts = []\n",
        "    new_preds = []\n",
        "    new_prederrs = []\n",
        "    for T in np.unique(Ts):\n",
        "        new_Ts.append(T)\n",
        "        new_preds.append(preds[Ts == T].mean())\n",
        "        new_prederrs.append(preds[Ts == T].std()/np.sqrt(len(preds[Ts == T])))\n",
        "    return np.array(new_Ts), np.array(new_preds), np.array(new_prederrs)\n",
        "\n",
        "def sigmoid(x, x0, k):\n",
        "    return 1 / (1 + 1*np.exp(-k*(x-x0)))"
      ],
      "execution_count": null,
      "outputs": []
    },
    {
      "cell_type": "code",
      "metadata": {
        "scrolled": true,
        "id": "6cWMz8bZjrB5",
        "colab": {
          "base_uri": "https://localhost:8080/",
          "height": 367
        },
        "outputId": "664ec5b7-a85c-4035-fbb9-83e1ebf8b82a"
      },
      "source": [
        "# Результат -\n",
        "# Строим средние прогнозы для решеток в тестовом наборе при разных температурах. \n",
        "# Точка, в которой предсказание проходит через 0.5 - критическая температура, \n",
        "# т.е. фазовый переход. Строим сигмоиду и используем её для оценки точки пересечения (`Tc_fit`)\n",
        "Ts_low, preds_low, prederrs_low = get_t_and_avgpred(T_test[low],pred[low])\n",
        "Ts_high, preds_high, prederrs_high = get_t_and_avgpred(T_test[high],pred[high])\n",
        "\n",
        "# строим сигмойду\n",
        "popt, pcov = curve_fit(sigmoid, np.r_[Ts_low,Ts_high], np.r_[preds_low,preds_high])\n",
        "xfit = np.linspace(0.0,5.0,200)\n",
        "yfit = sigmoid(xfit, *popt)\n",
        "# и выясняем, для какого T линия ближе всего к 0.5\n",
        "Tc_fit = xfit[np.argmin(np.abs(yfit-0.5))]\n",
        "Tc_MK=2.5 # Поставьте значение, которое Вы получили после МК-моделирования\n",
        "\n",
        "fig, ax = plt.subplots(nrows=1, ncols=1)\n",
        "ax.errorbar(Ts_low,preds_low, yerr=prederrs_low,linestyle='',marker='v',markersize=3,  color=\"darkgrey\", label=\"$T<T_c$\")\n",
        "ax.errorbar(Ts_high,preds_high, yerr=prederrs_high,linestyle='',marker='^', color=\"lightgrey\", label=\"$T>T_c$\")\n",
        "ax.plot(xfit,yfit, \"k-\", label=\"sigmoid fit\")\n",
        "ax.plot([Tc,Tc],[0.,1.],'-.', color=\"black\",linewidth=2.0, label=\"$T_c$ ({:.3f})\".format(Tc))\n",
        "#print(\"{} {} {}\\nI\".format(Ts_low,preds_low, prederrs_low ))\n",
        "ax.plot([Tc_fit,Tc_fit],[0.,1.0],'--', color=\"black\",linewidth=2.0, label=\"$T_{{c,\\mathrm{{NN}}}}$ ({:.2f})\".format(Tc_fit))\n",
        "ax.plot([Tc_MK,Tc_MK],[0.,1.0],'--', color=\"gray\",linewidth=2.0, label=\"$T_{{c,\\mathrm{{MK}}}}$ ({:.2f})\".format(Tc_MK))\n",
        "ax.plot(lt,lm,\"k*\", label=\"M(T) (МК)\")\n",
        "ax.set_xlabel(\"$T/J$\")\n",
        "ax.set_ylabel(\"Предсказание\")\n",
        "ax.set_ylim(0,1)\n",
        "#ax.annotate(\"Парамагнитная фаза\",xy=(0,0), xytext=(-1.1,1.1))\n",
        "#ax.annotate(\"Ферромагнитная фаза\",xy=(0,0), xytext=(-1.1,-0.1))\n",
        "ax.set_title(\"$N = 10x10$\")\n",
        "ax.legend(loc =\"center left\")\n",
        "ax.grid(True)\n",
        "\n",
        "\n",
        "fig.savefig('мой график.eps')\n",
        "\n",
        "print (\"Predicted Tc = \"+str(round(Tc_fit,3)))\n",
        "print (\"       Error =\", str(round(np.abs(Tc_fit-Tc)/Tc*100,2))+\"%\")\n"
      ],
      "execution_count": null,
      "outputs": [
        {
          "output_type": "stream",
          "text": [
            "The PostScript backend does not support transparency; partially transparent artists will be rendered opaque.\n",
            "The PostScript backend does not support transparency; partially transparent artists will be rendered opaque.\n"
          ],
          "name": "stderr"
        },
        {
          "output_type": "stream",
          "text": [
            "Predicted Tc = 1.935\n",
            "       Error = 14.74%\n"
          ],
          "name": "stdout"
        },
        {
          "output_type": "display_data",
          "data": {
            "image/png": "[encoded data removed]",
            "text/plain": [
              "<Figure size 432x288 with 1 Axes>"
            ]
          },
          "metadata": {
            "tags": [],
            "needs_background": "light"
          }
        }
      ]
    },
    {
      "cell_type": "code",
      "metadata": {
        "id": "7qVuVdHzjrB7"
      },
      "source": [],
      "execution_count": null,
      "outputs": []
    }
  ]
}